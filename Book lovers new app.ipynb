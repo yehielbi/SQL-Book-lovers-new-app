{
 "cells": [
  {
   "cell_type": "markdown",
   "metadata": {},
   "source": [
    "# Book lovers new app"
   ]
  },
  {
   "cell_type": "markdown",
   "metadata": {},
   "source": [
    "# Project Description \n",
    "The coronavirus took the entire world by surprise, changing everyone's daily routine. City dwellers no longer spent their free time outside, going to cafes and malls; more people were home, reading books. That attracted the attention of startups that rushed to develop new apps for book lovers.\n",
    "\n",
    "You've been given a database of one of the services competing in this market. It contains data on books, publishers, authors, and customer ratings and reviews of books. This information will be used to generate a value proposition for a new product."
   ]
  },
  {
   "cell_type": "code",
   "execution_count": 1,
   "metadata": {},
   "outputs": [],
   "source": [
    "import pandas as pd\n",
    "from sqlalchemy import create_engine\n",
    "import warnings\n",
    "warnings.filterwarnings('ignore')"
   ]
  },
  {
   "cell_type": "markdown",
   "metadata": {},
   "source": [
    "**Connect to the database**"
   ]
  },
  {
   "cell_type": "code",
   "execution_count": 2,
   "metadata": {},
   "outputs": [],
   "source": [
    "db_config = {'user': 'praktikum_student',         # user name\n",
    "             'pwd': 'Sdf4$2;d-d30pp', # password\n",
    "             'host': 'rc1b-wcoijxj3yxfsf3fs.mdb.yandexcloud.net',\n",
    "             'port': 6432,              # connection port\n",
    "             'db': 'data-analyst-final-project-db'}          # the name of the data base\n",
    "\n",
    "connection_string = 'postgresql://{}:{}@{}:{}/{}'.format(db_config['user'],\n",
    "                                                                     db_config['pwd'],\n",
    "                                                                       db_config['host'],\n",
    "                                                                       db_config['port'],\n",
    "                                                                       db_config['db'])\n",
    "\n",
    "engine = create_engine(connection_string, connect_args={'sslmode':'require'})"
   ]
  },
  {
   "cell_type": "markdown",
   "metadata": {},
   "source": [
    "**Study the tables**"
   ]
  },
  {
   "cell_type": "code",
   "execution_count": 3,
   "metadata": {},
   "outputs": [
    {
     "data": {
      "text/html": [
       "<div>\n",
       "<style scoped>\n",
       "    .dataframe tbody tr th:only-of-type {\n",
       "        vertical-align: middle;\n",
       "    }\n",
       "\n",
       "    .dataframe tbody tr th {\n",
       "        vertical-align: top;\n",
       "    }\n",
       "\n",
       "    .dataframe thead th {\n",
       "        text-align: right;\n",
       "    }\n",
       "</style>\n",
       "<table border=\"1\" class=\"dataframe\">\n",
       "  <thead>\n",
       "    <tr style=\"text-align: right;\">\n",
       "      <th></th>\n",
       "      <th>book_id</th>\n",
       "      <th>author_id</th>\n",
       "      <th>title</th>\n",
       "      <th>num_pages</th>\n",
       "      <th>publication_date</th>\n",
       "      <th>publisher_id</th>\n",
       "    </tr>\n",
       "  </thead>\n",
       "  <tbody>\n",
       "    <tr>\n",
       "      <th>0</th>\n",
       "      <td>1</td>\n",
       "      <td>546</td>\n",
       "      <td>'Salem's Lot</td>\n",
       "      <td>594</td>\n",
       "      <td>2005-11-01</td>\n",
       "      <td>93</td>\n",
       "    </tr>\n",
       "    <tr>\n",
       "      <th>1</th>\n",
       "      <td>2</td>\n",
       "      <td>465</td>\n",
       "      <td>1 000 Places to See Before You Die</td>\n",
       "      <td>992</td>\n",
       "      <td>2003-05-22</td>\n",
       "      <td>336</td>\n",
       "    </tr>\n",
       "    <tr>\n",
       "      <th>2</th>\n",
       "      <td>3</td>\n",
       "      <td>407</td>\n",
       "      <td>13 Little Blue Envelopes (Little Blue Envelope...</td>\n",
       "      <td>322</td>\n",
       "      <td>2010-12-21</td>\n",
       "      <td>135</td>\n",
       "    </tr>\n",
       "    <tr>\n",
       "      <th>3</th>\n",
       "      <td>4</td>\n",
       "      <td>82</td>\n",
       "      <td>1491: New Revelations of the Americas Before C...</td>\n",
       "      <td>541</td>\n",
       "      <td>2006-10-10</td>\n",
       "      <td>309</td>\n",
       "    </tr>\n",
       "    <tr>\n",
       "      <th>4</th>\n",
       "      <td>5</td>\n",
       "      <td>125</td>\n",
       "      <td>1776</td>\n",
       "      <td>386</td>\n",
       "      <td>2006-07-04</td>\n",
       "      <td>268</td>\n",
       "    </tr>\n",
       "  </tbody>\n",
       "</table>\n",
       "</div>"
      ],
      "text/plain": [
       "   book_id  author_id                                              title  \\\n",
       "0        1        546                                       'Salem's Lot   \n",
       "1        2        465                 1 000 Places to See Before You Die   \n",
       "2        3        407  13 Little Blue Envelopes (Little Blue Envelope...   \n",
       "3        4         82  1491: New Revelations of the Americas Before C...   \n",
       "4        5        125                                               1776   \n",
       "\n",
       "   num_pages publication_date  publisher_id  \n",
       "0        594       2005-11-01            93  \n",
       "1        992       2003-05-22           336  \n",
       "2        322       2010-12-21           135  \n",
       "3        541       2006-10-10           309  \n",
       "4        386       2006-07-04           268  "
      ]
     },
     "metadata": {},
     "output_type": "display_data"
    }
   ],
   "source": [
    "books = pd.io.sql.read_sql('''SELECT * FROM books''', con = engine)\n",
    "display(books.head())"
   ]
  },
  {
   "cell_type": "code",
   "execution_count": 4,
   "metadata": {},
   "outputs": [
    {
     "data": {
      "text/html": [
       "<div>\n",
       "<style scoped>\n",
       "    .dataframe tbody tr th:only-of-type {\n",
       "        vertical-align: middle;\n",
       "    }\n",
       "\n",
       "    .dataframe tbody tr th {\n",
       "        vertical-align: top;\n",
       "    }\n",
       "\n",
       "    .dataframe thead th {\n",
       "        text-align: right;\n",
       "    }\n",
       "</style>\n",
       "<table border=\"1\" class=\"dataframe\">\n",
       "  <thead>\n",
       "    <tr style=\"text-align: right;\">\n",
       "      <th></th>\n",
       "      <th>author_id</th>\n",
       "      <th>author</th>\n",
       "    </tr>\n",
       "  </thead>\n",
       "  <tbody>\n",
       "    <tr>\n",
       "      <th>0</th>\n",
       "      <td>1</td>\n",
       "      <td>A.S. Byatt</td>\n",
       "    </tr>\n",
       "    <tr>\n",
       "      <th>1</th>\n",
       "      <td>2</td>\n",
       "      <td>Aesop/Laura Harris/Laura Gibbs</td>\n",
       "    </tr>\n",
       "    <tr>\n",
       "      <th>2</th>\n",
       "      <td>3</td>\n",
       "      <td>Agatha Christie</td>\n",
       "    </tr>\n",
       "    <tr>\n",
       "      <th>3</th>\n",
       "      <td>4</td>\n",
       "      <td>Alan Brennert</td>\n",
       "    </tr>\n",
       "    <tr>\n",
       "      <th>4</th>\n",
       "      <td>5</td>\n",
       "      <td>Alan Moore/David   Lloyd</td>\n",
       "    </tr>\n",
       "  </tbody>\n",
       "</table>\n",
       "</div>"
      ],
      "text/plain": [
       "   author_id                          author\n",
       "0          1                      A.S. Byatt\n",
       "1          2  Aesop/Laura Harris/Laura Gibbs\n",
       "2          3                 Agatha Christie\n",
       "3          4                   Alan Brennert\n",
       "4          5        Alan Moore/David   Lloyd"
      ]
     },
     "metadata": {},
     "output_type": "display_data"
    }
   ],
   "source": [
    "authors = pd.io.sql.read_sql('''SELECT * FROM authors''', con = engine)\n",
    "display(authors.head())"
   ]
  },
  {
   "cell_type": "code",
   "execution_count": 5,
   "metadata": {},
   "outputs": [
    {
     "data": {
      "text/html": [
       "<div>\n",
       "<style scoped>\n",
       "    .dataframe tbody tr th:only-of-type {\n",
       "        vertical-align: middle;\n",
       "    }\n",
       "\n",
       "    .dataframe tbody tr th {\n",
       "        vertical-align: top;\n",
       "    }\n",
       "\n",
       "    .dataframe thead th {\n",
       "        text-align: right;\n",
       "    }\n",
       "</style>\n",
       "<table border=\"1\" class=\"dataframe\">\n",
       "  <thead>\n",
       "    <tr style=\"text-align: right;\">\n",
       "      <th></th>\n",
       "      <th>publisher_id</th>\n",
       "      <th>publisher</th>\n",
       "    </tr>\n",
       "  </thead>\n",
       "  <tbody>\n",
       "    <tr>\n",
       "      <th>0</th>\n",
       "      <td>1</td>\n",
       "      <td>Ace</td>\n",
       "    </tr>\n",
       "    <tr>\n",
       "      <th>1</th>\n",
       "      <td>2</td>\n",
       "      <td>Ace Book</td>\n",
       "    </tr>\n",
       "    <tr>\n",
       "      <th>2</th>\n",
       "      <td>3</td>\n",
       "      <td>Ace Books</td>\n",
       "    </tr>\n",
       "    <tr>\n",
       "      <th>3</th>\n",
       "      <td>4</td>\n",
       "      <td>Ace Hardcover</td>\n",
       "    </tr>\n",
       "    <tr>\n",
       "      <th>4</th>\n",
       "      <td>5</td>\n",
       "      <td>Addison Wesley Publishing Company</td>\n",
       "    </tr>\n",
       "  </tbody>\n",
       "</table>\n",
       "</div>"
      ],
      "text/plain": [
       "   publisher_id                          publisher\n",
       "0             1                                Ace\n",
       "1             2                           Ace Book\n",
       "2             3                          Ace Books\n",
       "3             4                      Ace Hardcover\n",
       "4             5  Addison Wesley Publishing Company"
      ]
     },
     "metadata": {},
     "output_type": "display_data"
    }
   ],
   "source": [
    "publishers = pd.io.sql.read_sql('''SELECT * FROM publishers''', con = engine)\n",
    "display(publishers.head())"
   ]
  },
  {
   "cell_type": "code",
   "execution_count": 6,
   "metadata": {},
   "outputs": [
    {
     "data": {
      "text/html": [
       "<div>\n",
       "<style scoped>\n",
       "    .dataframe tbody tr th:only-of-type {\n",
       "        vertical-align: middle;\n",
       "    }\n",
       "\n",
       "    .dataframe tbody tr th {\n",
       "        vertical-align: top;\n",
       "    }\n",
       "\n",
       "    .dataframe thead th {\n",
       "        text-align: right;\n",
       "    }\n",
       "</style>\n",
       "<table border=\"1\" class=\"dataframe\">\n",
       "  <thead>\n",
       "    <tr style=\"text-align: right;\">\n",
       "      <th></th>\n",
       "      <th>rating_id</th>\n",
       "      <th>book_id</th>\n",
       "      <th>username</th>\n",
       "      <th>rating</th>\n",
       "    </tr>\n",
       "  </thead>\n",
       "  <tbody>\n",
       "    <tr>\n",
       "      <th>0</th>\n",
       "      <td>1</td>\n",
       "      <td>1</td>\n",
       "      <td>ryanfranco</td>\n",
       "      <td>4</td>\n",
       "    </tr>\n",
       "    <tr>\n",
       "      <th>1</th>\n",
       "      <td>2</td>\n",
       "      <td>1</td>\n",
       "      <td>grantpatricia</td>\n",
       "      <td>2</td>\n",
       "    </tr>\n",
       "    <tr>\n",
       "      <th>2</th>\n",
       "      <td>3</td>\n",
       "      <td>1</td>\n",
       "      <td>brandtandrea</td>\n",
       "      <td>5</td>\n",
       "    </tr>\n",
       "    <tr>\n",
       "      <th>3</th>\n",
       "      <td>4</td>\n",
       "      <td>2</td>\n",
       "      <td>lorichen</td>\n",
       "      <td>3</td>\n",
       "    </tr>\n",
       "    <tr>\n",
       "      <th>4</th>\n",
       "      <td>5</td>\n",
       "      <td>2</td>\n",
       "      <td>mariokeller</td>\n",
       "      <td>2</td>\n",
       "    </tr>\n",
       "  </tbody>\n",
       "</table>\n",
       "</div>"
      ],
      "text/plain": [
       "   rating_id  book_id       username  rating\n",
       "0          1        1     ryanfranco       4\n",
       "1          2        1  grantpatricia       2\n",
       "2          3        1   brandtandrea       5\n",
       "3          4        2       lorichen       3\n",
       "4          5        2    mariokeller       2"
      ]
     },
     "metadata": {},
     "output_type": "display_data"
    }
   ],
   "source": [
    "ratings = pd.io.sql.read_sql('''SELECT * FROM ratings''', con = engine)\n",
    "display(ratings.head())"
   ]
  },
  {
   "cell_type": "code",
   "execution_count": 7,
   "metadata": {},
   "outputs": [
    {
     "data": {
      "text/html": [
       "<div>\n",
       "<style scoped>\n",
       "    .dataframe tbody tr th:only-of-type {\n",
       "        vertical-align: middle;\n",
       "    }\n",
       "\n",
       "    .dataframe tbody tr th {\n",
       "        vertical-align: top;\n",
       "    }\n",
       "\n",
       "    .dataframe thead th {\n",
       "        text-align: right;\n",
       "    }\n",
       "</style>\n",
       "<table border=\"1\" class=\"dataframe\">\n",
       "  <thead>\n",
       "    <tr style=\"text-align: right;\">\n",
       "      <th></th>\n",
       "      <th>review_id</th>\n",
       "      <th>book_id</th>\n",
       "      <th>username</th>\n",
       "      <th>text</th>\n",
       "    </tr>\n",
       "  </thead>\n",
       "  <tbody>\n",
       "    <tr>\n",
       "      <th>0</th>\n",
       "      <td>1</td>\n",
       "      <td>1</td>\n",
       "      <td>brandtandrea</td>\n",
       "      <td>Mention society tell send professor analysis. ...</td>\n",
       "    </tr>\n",
       "    <tr>\n",
       "      <th>1</th>\n",
       "      <td>2</td>\n",
       "      <td>1</td>\n",
       "      <td>ryanfranco</td>\n",
       "      <td>Foot glass pretty audience hit themselves. Amo...</td>\n",
       "    </tr>\n",
       "    <tr>\n",
       "      <th>2</th>\n",
       "      <td>3</td>\n",
       "      <td>2</td>\n",
       "      <td>lorichen</td>\n",
       "      <td>Listen treat keep worry. Miss husband tax but ...</td>\n",
       "    </tr>\n",
       "    <tr>\n",
       "      <th>3</th>\n",
       "      <td>4</td>\n",
       "      <td>3</td>\n",
       "      <td>johnsonamanda</td>\n",
       "      <td>Finally month interesting blue could nature cu...</td>\n",
       "    </tr>\n",
       "    <tr>\n",
       "      <th>4</th>\n",
       "      <td>5</td>\n",
       "      <td>3</td>\n",
       "      <td>scotttamara</td>\n",
       "      <td>Nation purpose heavy give wait song will. List...</td>\n",
       "    </tr>\n",
       "  </tbody>\n",
       "</table>\n",
       "</div>"
      ],
      "text/plain": [
       "   review_id  book_id       username  \\\n",
       "0          1        1   brandtandrea   \n",
       "1          2        1     ryanfranco   \n",
       "2          3        2       lorichen   \n",
       "3          4        3  johnsonamanda   \n",
       "4          5        3    scotttamara   \n",
       "\n",
       "                                                text  \n",
       "0  Mention society tell send professor analysis. ...  \n",
       "1  Foot glass pretty audience hit themselves. Amo...  \n",
       "2  Listen treat keep worry. Miss husband tax but ...  \n",
       "3  Finally month interesting blue could nature cu...  \n",
       "4  Nation purpose heavy give wait song will. List...  "
      ]
     },
     "metadata": {},
     "output_type": "display_data"
    }
   ],
   "source": [
    "reviews = pd.io.sql.read_sql('''SELECT * FROM reviews''', con = engine)\n",
    "display(reviews.head())"
   ]
  },
  {
   "cell_type": "markdown",
   "metadata": {},
   "source": [
    "**Find the number of books released after January 1, 2000.**"
   ]
  },
  {
   "cell_type": "code",
   "execution_count": 8,
   "metadata": {},
   "outputs": [
    {
     "data": {
      "text/html": [
       "<div>\n",
       "<style scoped>\n",
       "    .dataframe tbody tr th:only-of-type {\n",
       "        vertical-align: middle;\n",
       "    }\n",
       "\n",
       "    .dataframe tbody tr th {\n",
       "        vertical-align: top;\n",
       "    }\n",
       "\n",
       "    .dataframe thead th {\n",
       "        text-align: right;\n",
       "    }\n",
       "</style>\n",
       "<table border=\"1\" class=\"dataframe\">\n",
       "  <thead>\n",
       "    <tr style=\"text-align: right;\">\n",
       "      <th></th>\n",
       "      <th>count</th>\n",
       "    </tr>\n",
       "  </thead>\n",
       "  <tbody>\n",
       "    <tr>\n",
       "      <th>0</th>\n",
       "      <td>819</td>\n",
       "    </tr>\n",
       "  </tbody>\n",
       "</table>\n",
       "</div>"
      ],
      "text/plain": [
       "   count\n",
       "0    819"
      ]
     },
     "execution_count": 8,
     "metadata": {},
     "output_type": "execute_result"
    }
   ],
   "source": [
    "pd.io.sql.read_sql('''SELECT COUNT(book_id) FROM books WHERE publication_date > '2000-01-01' ''', con = engine)\n"
   ]
  },
  {
   "cell_type": "markdown",
   "metadata": {},
   "source": [
    "The number of books released after January 1st, 2000 is 819."
   ]
  },
  {
   "cell_type": "markdown",
   "metadata": {},
   "source": [
    "**Find the number of user reviews and the average rating for each book.**"
   ]
  },
  {
   "cell_type": "code",
   "execution_count": 9,
   "metadata": {},
   "outputs": [
    {
     "data": {
      "text/html": [
       "<div>\n",
       "<style scoped>\n",
       "    .dataframe tbody tr th:only-of-type {\n",
       "        vertical-align: middle;\n",
       "    }\n",
       "\n",
       "    .dataframe tbody tr th {\n",
       "        vertical-align: top;\n",
       "    }\n",
       "\n",
       "    .dataframe thead th {\n",
       "        text-align: right;\n",
       "    }\n",
       "</style>\n",
       "<table border=\"1\" class=\"dataframe\">\n",
       "  <thead>\n",
       "    <tr style=\"text-align: right;\">\n",
       "      <th></th>\n",
       "      <th>title</th>\n",
       "      <th>reviews_num</th>\n",
       "      <th>avg_rating</th>\n",
       "    </tr>\n",
       "  </thead>\n",
       "  <tbody>\n",
       "    <tr>\n",
       "      <th>0</th>\n",
       "      <td>Twilight (Twilight  #1)</td>\n",
       "      <td>1120</td>\n",
       "      <td>3.662500</td>\n",
       "    </tr>\n",
       "    <tr>\n",
       "      <th>1</th>\n",
       "      <td>The Hobbit  or There and Back Again</td>\n",
       "      <td>528</td>\n",
       "      <td>4.125000</td>\n",
       "    </tr>\n",
       "    <tr>\n",
       "      <th>2</th>\n",
       "      <td>The Catcher in the Rye</td>\n",
       "      <td>516</td>\n",
       "      <td>3.825581</td>\n",
       "    </tr>\n",
       "    <tr>\n",
       "      <th>3</th>\n",
       "      <td>Harry Potter and the Prisoner of Azkaban (Harr...</td>\n",
       "      <td>492</td>\n",
       "      <td>4.414634</td>\n",
       "    </tr>\n",
       "    <tr>\n",
       "      <th>4</th>\n",
       "      <td>Harry Potter and the Chamber of Secrets (Harry...</td>\n",
       "      <td>480</td>\n",
       "      <td>4.287500</td>\n",
       "    </tr>\n",
       "    <tr>\n",
       "      <th>...</th>\n",
       "      <td>...</td>\n",
       "      <td>...</td>\n",
       "      <td>...</td>\n",
       "    </tr>\n",
       "    <tr>\n",
       "      <th>988</th>\n",
       "      <td>The Adventures of Tom Sawyer and Adventures of...</td>\n",
       "      <td>2</td>\n",
       "      <td>5.000000</td>\n",
       "    </tr>\n",
       "    <tr>\n",
       "      <th>989</th>\n",
       "      <td>History of Beauty</td>\n",
       "      <td>2</td>\n",
       "      <td>2.500000</td>\n",
       "    </tr>\n",
       "    <tr>\n",
       "      <th>990</th>\n",
       "      <td>Lysistrata</td>\n",
       "      <td>2</td>\n",
       "      <td>4.000000</td>\n",
       "    </tr>\n",
       "    <tr>\n",
       "      <th>991</th>\n",
       "      <td>Executive Orders (Jack Ryan  #8)</td>\n",
       "      <td>2</td>\n",
       "      <td>3.500000</td>\n",
       "    </tr>\n",
       "    <tr>\n",
       "      <th>992</th>\n",
       "      <td>Dragons of Winter Night (Dragonlance: Chronicl...</td>\n",
       "      <td>2</td>\n",
       "      <td>4.000000</td>\n",
       "    </tr>\n",
       "  </tbody>\n",
       "</table>\n",
       "<p>993 rows × 3 columns</p>\n",
       "</div>"
      ],
      "text/plain": [
       "                                                 title  reviews_num  \\\n",
       "0                              Twilight (Twilight  #1)         1120   \n",
       "1                  The Hobbit  or There and Back Again          528   \n",
       "2                               The Catcher in the Rye          516   \n",
       "3    Harry Potter and the Prisoner of Azkaban (Harr...          492   \n",
       "4    Harry Potter and the Chamber of Secrets (Harry...          480   \n",
       "..                                                 ...          ...   \n",
       "988  The Adventures of Tom Sawyer and Adventures of...            2   \n",
       "989                                  History of Beauty            2   \n",
       "990                                         Lysistrata            2   \n",
       "991                   Executive Orders (Jack Ryan  #8)            2   \n",
       "992  Dragons of Winter Night (Dragonlance: Chronicl...            2   \n",
       "\n",
       "     avg_rating  \n",
       "0      3.662500  \n",
       "1      4.125000  \n",
       "2      3.825581  \n",
       "3      4.414634  \n",
       "4      4.287500  \n",
       "..          ...  \n",
       "988    5.000000  \n",
       "989    2.500000  \n",
       "990    4.000000  \n",
       "991    3.500000  \n",
       "992    4.000000  \n",
       "\n",
       "[993 rows x 3 columns]"
      ]
     },
     "execution_count": 9,
     "metadata": {},
     "output_type": "execute_result"
    }
   ],
   "source": [
    " pd.io.sql.read_sql('''SELECT b.title,\n",
    " COUNT(r.review_id) AS reviews_num,\n",
    " AVG(ra.rating) AS avg_rating\n",
    " FROM books AS b\n",
    " INNER JOIN  reviews AS r on b.book_id = r.book_id\n",
    " INNER JOIN  ratings AS ra on b.book_id = ra.book_id \n",
    " GROUP BY b.title\n",
    " ORDER BY reviews_num DESC''', con = engine)\n"
   ]
  },
  {
   "cell_type": "markdown",
   "metadata": {},
   "source": [
    "We have several book with average rating of 5!"
   ]
  },
  {
   "cell_type": "markdown",
   "metadata": {},
   "source": [
    "**Identify the publisher that has released the greatest number of books with more than 50 pages (this will help you exclude brochures and similar publications from your analysis).**"
   ]
  },
  {
   "cell_type": "code",
   "execution_count": 10,
   "metadata": {},
   "outputs": [
    {
     "data": {
      "text/html": [
       "<div>\n",
       "<style scoped>\n",
       "    .dataframe tbody tr th:only-of-type {\n",
       "        vertical-align: middle;\n",
       "    }\n",
       "\n",
       "    .dataframe tbody tr th {\n",
       "        vertical-align: top;\n",
       "    }\n",
       "\n",
       "    .dataframe thead th {\n",
       "        text-align: right;\n",
       "    }\n",
       "</style>\n",
       "<table border=\"1\" class=\"dataframe\">\n",
       "  <thead>\n",
       "    <tr style=\"text-align: right;\">\n",
       "      <th></th>\n",
       "      <th>publisher</th>\n",
       "      <th>books_num</th>\n",
       "    </tr>\n",
       "  </thead>\n",
       "  <tbody>\n",
       "    <tr>\n",
       "      <th>0</th>\n",
       "      <td>Penguin Books</td>\n",
       "      <td>42</td>\n",
       "    </tr>\n",
       "  </tbody>\n",
       "</table>\n",
       "</div>"
      ],
      "text/plain": [
       "       publisher  books_num\n",
       "0  Penguin Books         42"
      ]
     },
     "execution_count": 10,
     "metadata": {},
     "output_type": "execute_result"
    }
   ],
   "source": [
    " pd.io.sql.read_sql (''' SELECT \n",
    "                p.publisher,\n",
    "                 COUNT(b.book_id) AS books_num\n",
    "                FROM publishers AS p\n",
    "                INNER JOIN books as b  ON p.publisher_id = b.publisher_id\n",
    "                WHERE num_pages > 50\n",
    "                GROUP BY publisher\n",
    "                ORDER BY books_num DESC\n",
    "                LIMIT 1\n",
    "           ''', con = engine)"
   ]
  },
  {
   "cell_type": "markdown",
   "metadata": {},
   "source": [
    "Penguin Books is the who released the greatest number of books with 42 books."
   ]
  },
  {
   "cell_type": "markdown",
   "metadata": {},
   "source": [
    "**Identify the author with the highest average book rating: look only at books with at least 50 ratings.**"
   ]
  },
  {
   "cell_type": "code",
   "execution_count": 11,
   "metadata": {},
   "outputs": [
    {
     "data": {
      "text/html": [
       "<div>\n",
       "<style scoped>\n",
       "    .dataframe tbody tr th:only-of-type {\n",
       "        vertical-align: middle;\n",
       "    }\n",
       "\n",
       "    .dataframe tbody tr th {\n",
       "        vertical-align: top;\n",
       "    }\n",
       "\n",
       "    .dataframe thead th {\n",
       "        text-align: right;\n",
       "    }\n",
       "</style>\n",
       "<table border=\"1\" class=\"dataframe\">\n",
       "  <thead>\n",
       "    <tr style=\"text-align: right;\">\n",
       "      <th></th>\n",
       "      <th>author</th>\n",
       "      <th>avg</th>\n",
       "    </tr>\n",
       "  </thead>\n",
       "  <tbody>\n",
       "    <tr>\n",
       "      <th>0</th>\n",
       "      <td>Diana Gabaldon</td>\n",
       "      <td>4.3</td>\n",
       "    </tr>\n",
       "  </tbody>\n",
       "</table>\n",
       "</div>"
      ],
      "text/plain": [
       "           author  avg\n",
       "0  Diana Gabaldon  4.3"
      ]
     },
     "execution_count": 11,
     "metadata": {},
     "output_type": "execute_result"
    }
   ],
   "source": [
    " pd.io.sql.read_sql (''' \n",
    " SELECT a.author,\n",
    " AVG(r.rating)\n",
    " FROM authors AS a \n",
    " INNER JOIN books AS b ON  a.author_id = b.author_id\n",
    " INNER JOIN ratings AS r ON  b.book_id =  r.book_id\n",
    " GROUP BY a.author\n",
    " HAVING COUNT(r.rating) >= 50\n",
    " ORDER BY AVG(r.rating) DESC\n",
    " LIMIT 1\n",
    "''', con = engine)"
   ]
  },
  {
   "cell_type": "markdown",
   "metadata": {},
   "source": [
    "The author with the highest average book rating is Diana Gabaldon with 4.3 average rating."
   ]
  },
  {
   "cell_type": "markdown",
   "metadata": {},
   "source": [
    "**Find the average number of text reviews among users who rated more than 50 books.**"
   ]
  },
  {
   "cell_type": "code",
   "execution_count": 12,
   "metadata": {},
   "outputs": [
    {
     "data": {
      "text/html": [
       "<div>\n",
       "<style scoped>\n",
       "    .dataframe tbody tr th:only-of-type {\n",
       "        vertical-align: middle;\n",
       "    }\n",
       "\n",
       "    .dataframe tbody tr th {\n",
       "        vertical-align: top;\n",
       "    }\n",
       "\n",
       "    .dataframe thead th {\n",
       "        text-align: right;\n",
       "    }\n",
       "</style>\n",
       "<table border=\"1\" class=\"dataframe\">\n",
       "  <thead>\n",
       "    <tr style=\"text-align: right;\">\n",
       "      <th></th>\n",
       "      <th>avg_reviews</th>\n",
       "    </tr>\n",
       "  </thead>\n",
       "  <tbody>\n",
       "    <tr>\n",
       "      <th>0</th>\n",
       "      <td>24.333333</td>\n",
       "    </tr>\n",
       "  </tbody>\n",
       "</table>\n",
       "</div>"
      ],
      "text/plain": [
       "   avg_reviews\n",
       "0    24.333333"
      ]
     },
     "execution_count": 12,
     "metadata": {},
     "output_type": "execute_result"
    }
   ],
   "source": [
    " pd.io.sql.read_sql (''' \n",
    " SELECT\n",
    "AVG(reviews_num) AS avg_reviews\n",
    "FROM\n",
    "(SELECT\n",
    "username,\n",
    "COUNT(DISTINCT review_id) AS reviews_num\n",
    "FROM reviews\n",
    "WHERE username IN \n",
    "(SELECT username\n",
    "FROM ratings\n",
    "GROUP BY username\n",
    "HAVING COUNT(DISTINCT book_id) > 50)\n",
    "GROUP BY username) AS a\n",
    "''', con = engine)"
   ]
  },
  {
   "cell_type": "markdown",
   "metadata": {},
   "source": [
    "The average number of text reviews among users who rated more than 50 books is 24.33."
   ]
  }
 ],
 "metadata": {
  "ExecuteTimeLog": [
   {
    "duration": 3,
    "start_time": "2022-06-26T07:11:28.608Z"
   },
   {
    "duration": 6,
    "start_time": "2022-06-26T07:11:28.990Z"
   },
   {
    "duration": 82,
    "start_time": "2022-06-26T07:12:13.347Z"
   },
   {
    "duration": 23,
    "start_time": "2022-06-26T07:12:35.395Z"
   },
   {
    "duration": 24,
    "start_time": "2022-06-26T07:12:47.018Z"
   },
   {
    "duration": 48,
    "start_time": "2022-06-26T07:12:56.824Z"
   },
   {
    "duration": 23,
    "start_time": "2022-06-26T07:13:10.303Z"
   },
   {
    "duration": 10,
    "start_time": "2022-06-26T07:15:44.793Z"
   },
   {
    "duration": 26,
    "start_time": "2022-06-26T07:16:40.482Z"
   },
   {
    "duration": 15,
    "start_time": "2022-06-26T07:17:01.719Z"
   },
   {
    "duration": 20,
    "start_time": "2022-06-26T07:17:19.248Z"
   },
   {
    "duration": 14,
    "start_time": "2022-06-26T07:18:13.775Z"
   },
   {
    "duration": 9,
    "start_time": "2022-06-26T07:28:01.091Z"
   },
   {
    "duration": 33,
    "start_time": "2022-06-26T07:38:20.549Z"
   },
   {
    "duration": 3,
    "start_time": "2022-06-26T08:26:01.797Z"
   },
   {
    "duration": 511,
    "start_time": "2022-06-26T08:26:05.182Z"
   },
   {
    "duration": 8847,
    "start_time": "2022-06-26T08:26:05.695Z"
   },
   {
    "duration": 80,
    "start_time": "2022-06-26T08:26:14.544Z"
   },
   {
    "duration": 22,
    "start_time": "2022-06-26T08:26:14.627Z"
   },
   {
    "duration": 16,
    "start_time": "2022-06-26T08:26:14.651Z"
   },
   {
    "duration": 31,
    "start_time": "2022-06-26T08:26:14.669Z"
   },
   {
    "duration": 48,
    "start_time": "2022-06-26T08:26:14.702Z"
   },
   {
    "duration": 10,
    "start_time": "2022-06-26T08:26:14.752Z"
   },
   {
    "duration": 51,
    "start_time": "2022-06-26T08:26:14.764Z"
   },
   {
    "duration": 17,
    "start_time": "2022-06-26T08:26:14.818Z"
   },
   {
    "duration": 20,
    "start_time": "2022-06-26T08:26:14.837Z"
   },
   {
    "duration": 16,
    "start_time": "2022-06-26T08:26:14.859Z"
   },
   {
    "duration": 39,
    "start_time": "2022-06-26T08:27:16.955Z"
   },
   {
    "duration": 78,
    "start_time": "2022-06-26T08:29:54.794Z"
   },
   {
    "duration": 201,
    "start_time": "2022-06-26T08:30:30.054Z"
   },
   {
    "duration": 12,
    "start_time": "2022-06-26T08:31:02.542Z"
   },
   {
    "duration": 217,
    "start_time": "2022-06-26T08:36:59.089Z"
   },
   {
    "duration": 113,
    "start_time": "2022-06-26T08:37:35.302Z"
   },
   {
    "duration": 30,
    "start_time": "2022-06-26T08:38:07.245Z"
   },
   {
    "duration": 3,
    "start_time": "2022-06-26T08:55:04.077Z"
   },
   {
    "duration": 2,
    "start_time": "2022-06-26T08:55:13.261Z"
   },
   {
    "duration": 2,
    "start_time": "2022-06-26T08:55:40.121Z"
   },
   {
    "duration": 108,
    "start_time": "2022-06-26T08:56:02.118Z"
   },
   {
    "duration": 90,
    "start_time": "2022-06-26T08:56:37.534Z"
   },
   {
    "duration": 119,
    "start_time": "2022-06-26T08:56:52.755Z"
   },
   {
    "duration": 179,
    "start_time": "2022-06-26T08:57:17.394Z"
   },
   {
    "duration": 135,
    "start_time": "2022-06-26T08:57:53.089Z"
   },
   {
    "duration": 127,
    "start_time": "2022-06-26T08:58:10.327Z"
   },
   {
    "duration": 156,
    "start_time": "2022-06-26T09:01:09.535Z"
   },
   {
    "duration": 16,
    "start_time": "2022-06-26T09:01:43.961Z"
   },
   {
    "duration": 17,
    "start_time": "2022-06-26T09:15:17.295Z"
   },
   {
    "duration": 18,
    "start_time": "2022-06-26T10:04:16.436Z"
   },
   {
    "duration": 17,
    "start_time": "2022-06-26T10:04:49.511Z"
   },
   {
    "duration": 14,
    "start_time": "2022-06-26T10:05:02.167Z"
   },
   {
    "duration": 23,
    "start_time": "2022-06-26T10:05:24.049Z"
   },
   {
    "duration": 124,
    "start_time": "2022-06-26T10:19:56.680Z"
   },
   {
    "duration": 231,
    "start_time": "2022-06-26T10:20:08.337Z"
   },
   {
    "duration": 162,
    "start_time": "2022-06-26T10:20:16.486Z"
   },
   {
    "duration": 223,
    "start_time": "2022-06-26T10:20:40.308Z"
   },
   {
    "duration": 106,
    "start_time": "2022-06-26T10:20:48.922Z"
   },
   {
    "duration": 122,
    "start_time": "2022-06-26T10:21:38.962Z"
   },
   {
    "duration": 139,
    "start_time": "2022-06-26T10:22:24.207Z"
   },
   {
    "duration": 130,
    "start_time": "2022-06-26T10:23:03.543Z"
   },
   {
    "duration": 32,
    "start_time": "2022-06-26T10:23:56.679Z"
   },
   {
    "duration": 122,
    "start_time": "2022-06-26T10:25:15.420Z"
   },
   {
    "duration": 163,
    "start_time": "2022-06-26T10:25:37.342Z"
   },
   {
    "duration": 128,
    "start_time": "2022-06-26T10:29:04.926Z"
   },
   {
    "duration": 27,
    "start_time": "2022-06-26T10:32:17.094Z"
   },
   {
    "duration": 34,
    "start_time": "2022-06-26T10:32:34.413Z"
   },
   {
    "duration": 28,
    "start_time": "2022-06-26T10:32:40.963Z"
   },
   {
    "duration": 17,
    "start_time": "2022-06-26T10:38:40.479Z"
   },
   {
    "duration": 22,
    "start_time": "2022-06-26T10:43:15.685Z"
   },
   {
    "duration": 15,
    "start_time": "2022-06-26T11:01:17.550Z"
   },
   {
    "duration": 17,
    "start_time": "2022-06-26T11:01:42.407Z"
   },
   {
    "duration": 15,
    "start_time": "2022-06-26T11:03:04.918Z"
   },
   {
    "duration": 111,
    "start_time": "2022-06-26T11:03:50.405Z"
   },
   {
    "duration": 142,
    "start_time": "2022-06-26T11:14:02.257Z"
   },
   {
    "duration": 16,
    "start_time": "2022-06-26T11:14:10.779Z"
   },
   {
    "duration": 16,
    "start_time": "2022-06-26T11:14:19.405Z"
   },
   {
    "duration": 16,
    "start_time": "2022-06-26T11:14:29.980Z"
   },
   {
    "duration": 17,
    "start_time": "2022-06-26T11:14:37.474Z"
   },
   {
    "duration": 16,
    "start_time": "2022-06-26T11:15:25.418Z"
   },
   {
    "duration": 485,
    "start_time": "2022-06-26T17:27:12.090Z"
   },
   {
    "duration": 13564,
    "start_time": "2022-06-26T17:27:12.577Z"
   },
   {
    "duration": 299,
    "start_time": "2022-06-26T17:27:26.142Z"
   },
   {
    "duration": 0,
    "start_time": "2022-06-26T17:27:26.444Z"
   },
   {
    "duration": 0,
    "start_time": "2022-06-26T17:27:26.445Z"
   },
   {
    "duration": 1,
    "start_time": "2022-06-26T17:27:26.446Z"
   },
   {
    "duration": 0,
    "start_time": "2022-06-26T17:27:26.448Z"
   },
   {
    "duration": 0,
    "start_time": "2022-06-26T17:27:26.449Z"
   },
   {
    "duration": 0,
    "start_time": "2022-06-26T17:27:26.451Z"
   },
   {
    "duration": 0,
    "start_time": "2022-06-26T17:27:26.451Z"
   },
   {
    "duration": 0,
    "start_time": "2022-06-26T17:27:26.452Z"
   },
   {
    "duration": 0,
    "start_time": "2022-06-26T17:27:26.453Z"
   },
   {
    "duration": 226,
    "start_time": "2022-06-26T17:27:37.608Z"
   },
   {
    "duration": 202,
    "start_time": "2022-06-26T17:27:39.927Z"
   },
   {
    "duration": 198,
    "start_time": "2022-06-26T17:27:40.622Z"
   },
   {
    "duration": 445,
    "start_time": "2022-06-26T17:28:12.706Z"
   },
   {
    "duration": 2,
    "start_time": "2022-06-26T17:28:13.153Z"
   },
   {
    "duration": 12204,
    "start_time": "2022-06-26T17:28:13.157Z"
   },
   {
    "duration": 1372,
    "start_time": "2022-06-26T17:28:25.363Z"
   },
   {
    "duration": 0,
    "start_time": "2022-06-26T17:28:26.737Z"
   },
   {
    "duration": 0,
    "start_time": "2022-06-26T17:28:26.738Z"
   },
   {
    "duration": 0,
    "start_time": "2022-06-26T17:28:26.739Z"
   },
   {
    "duration": 0,
    "start_time": "2022-06-26T17:28:26.740Z"
   },
   {
    "duration": 0,
    "start_time": "2022-06-26T17:28:26.741Z"
   },
   {
    "duration": 0,
    "start_time": "2022-06-26T17:28:26.742Z"
   },
   {
    "duration": 0,
    "start_time": "2022-06-26T17:28:26.743Z"
   },
   {
    "duration": 0,
    "start_time": "2022-06-26T17:28:26.744Z"
   },
   {
    "duration": 1,
    "start_time": "2022-06-26T17:28:26.744Z"
   },
   {
    "duration": 484,
    "start_time": "2022-06-26T17:28:43.870Z"
   },
   {
    "duration": 12268,
    "start_time": "2022-06-26T17:28:44.356Z"
   },
   {
    "duration": 105,
    "start_time": "2022-06-26T17:28:56.626Z"
   },
   {
    "duration": 0,
    "start_time": "2022-06-26T17:28:56.733Z"
   },
   {
    "duration": 0,
    "start_time": "2022-06-26T17:28:56.734Z"
   },
   {
    "duration": 0,
    "start_time": "2022-06-26T17:28:56.735Z"
   },
   {
    "duration": 0,
    "start_time": "2022-06-26T17:28:56.736Z"
   },
   {
    "duration": 0,
    "start_time": "2022-06-26T17:28:56.737Z"
   },
   {
    "duration": 0,
    "start_time": "2022-06-26T17:28:56.738Z"
   },
   {
    "duration": 0,
    "start_time": "2022-06-26T17:28:56.739Z"
   },
   {
    "duration": 0,
    "start_time": "2022-06-26T17:28:56.740Z"
   },
   {
    "duration": 0,
    "start_time": "2022-06-26T17:28:56.741Z"
   },
   {
    "duration": 3,
    "start_time": "2022-06-26T17:30:00.368Z"
   },
   {
    "duration": 7,
    "start_time": "2022-06-26T17:30:04.626Z"
   },
   {
    "duration": 12,
    "start_time": "2022-06-26T17:30:16.358Z"
   },
   {
    "duration": 12,
    "start_time": "2022-06-26T17:30:16.915Z"
   },
   {
    "duration": 24,
    "start_time": "2022-06-26T17:30:17.281Z"
   },
   {
    "duration": 24,
    "start_time": "2022-06-26T17:30:17.636Z"
   },
   {
    "duration": 12,
    "start_time": "2022-06-26T17:30:19.502Z"
   },
   {
    "duration": 30,
    "start_time": "2022-06-26T17:30:27.445Z"
   },
   {
    "duration": 14,
    "start_time": "2022-06-26T17:30:30.140Z"
   },
   {
    "duration": 16,
    "start_time": "2022-06-26T17:30:32.286Z"
   },
   {
    "duration": 15,
    "start_time": "2022-06-26T17:30:34.900Z"
   },
   {
    "duration": 2,
    "start_time": "2022-06-26T17:31:09.453Z"
   },
   {
    "duration": 472,
    "start_time": "2022-06-26T17:31:23.586Z"
   },
   {
    "duration": 12583,
    "start_time": "2022-06-26T17:31:24.060Z"
   },
   {
    "duration": 2,
    "start_time": "2022-06-26T17:31:36.644Z"
   },
   {
    "duration": 5,
    "start_time": "2022-06-26T17:31:36.648Z"
   },
   {
    "duration": 6,
    "start_time": "2022-06-26T17:31:36.655Z"
   },
   {
    "duration": 5,
    "start_time": "2022-06-26T17:31:36.662Z"
   },
   {
    "duration": 5,
    "start_time": "2022-06-26T17:31:36.668Z"
   },
   {
    "duration": 54,
    "start_time": "2022-06-26T17:31:36.675Z"
   },
   {
    "duration": 25,
    "start_time": "2022-06-26T17:31:36.730Z"
   },
   {
    "duration": 15,
    "start_time": "2022-06-26T17:31:36.756Z"
   },
   {
    "duration": 13,
    "start_time": "2022-06-26T17:31:36.773Z"
   },
   {
    "duration": 14,
    "start_time": "2022-06-26T17:31:36.788Z"
   },
   {
    "duration": 47,
    "start_time": "2022-06-26T17:42:48.140Z"
   },
   {
    "duration": 532,
    "start_time": "2022-06-26T17:42:55.107Z"
   },
   {
    "duration": 5649,
    "start_time": "2022-06-26T17:42:56.084Z"
   },
   {
    "duration": 307,
    "start_time": "2022-06-26T17:43:03.903Z"
   },
   {
    "duration": 78,
    "start_time": "2022-06-26T17:43:04.585Z"
   },
   {
    "duration": 78,
    "start_time": "2022-06-26T17:43:05.095Z"
   },
   {
    "duration": 131,
    "start_time": "2022-06-26T17:43:05.399Z"
   },
   {
    "duration": 94,
    "start_time": "2022-06-26T17:43:05.718Z"
   },
   {
    "duration": 478,
    "start_time": "2022-06-26T17:43:22.946Z"
   },
   {
    "duration": 5561,
    "start_time": "2022-06-26T17:43:23.427Z"
   },
   {
    "duration": 305,
    "start_time": "2022-06-26T17:43:28.990Z"
   },
   {
    "duration": 0,
    "start_time": "2022-06-26T17:43:29.297Z"
   },
   {
    "duration": 0,
    "start_time": "2022-06-26T17:43:29.298Z"
   },
   {
    "duration": 0,
    "start_time": "2022-06-26T17:43:29.299Z"
   },
   {
    "duration": 0,
    "start_time": "2022-06-26T17:43:29.300Z"
   },
   {
    "duration": 0,
    "start_time": "2022-06-26T17:43:29.301Z"
   },
   {
    "duration": 0,
    "start_time": "2022-06-26T17:43:29.303Z"
   },
   {
    "duration": 0,
    "start_time": "2022-06-26T17:43:29.304Z"
   },
   {
    "duration": 0,
    "start_time": "2022-06-26T17:43:29.305Z"
   },
   {
    "duration": 0,
    "start_time": "2022-06-26T17:43:29.306Z"
   },
   {
    "duration": 101,
    "start_time": "2022-06-26T17:43:59.734Z"
   },
   {
    "duration": 83,
    "start_time": "2022-06-26T17:44:10.648Z"
   },
   {
    "duration": 71,
    "start_time": "2022-06-26T17:44:20.658Z"
   },
   {
    "duration": 123,
    "start_time": "2022-06-26T17:44:30.998Z"
   },
   {
    "duration": 115,
    "start_time": "2022-06-26T17:44:39.729Z"
   },
   {
    "duration": 107,
    "start_time": "2022-06-26T17:44:50.810Z"
   },
   {
    "duration": 71,
    "start_time": "2022-06-26T17:48:18.146Z"
   },
   {
    "duration": 75,
    "start_time": "2022-06-26T17:48:32.289Z"
   },
   {
    "duration": 521,
    "start_time": "2022-06-26T17:49:39.293Z"
   },
   {
    "duration": 4836,
    "start_time": "2022-06-26T17:49:39.816Z"
   },
   {
    "duration": 275,
    "start_time": "2022-06-26T17:49:44.654Z"
   },
   {
    "duration": 76,
    "start_time": "2022-06-26T17:49:44.931Z"
   },
   {
    "duration": 75,
    "start_time": "2022-06-26T17:49:45.009Z"
   },
   {
    "duration": 107,
    "start_time": "2022-06-26T17:49:45.085Z"
   },
   {
    "duration": 91,
    "start_time": "2022-06-26T17:49:45.194Z"
   },
   {
    "duration": 74,
    "start_time": "2022-06-26T17:49:45.286Z"
   },
   {
    "duration": 89,
    "start_time": "2022-06-26T17:49:45.362Z"
   },
   {
    "duration": 75,
    "start_time": "2022-06-26T17:49:45.453Z"
   },
   {
    "duration": 78,
    "start_time": "2022-06-26T17:49:45.530Z"
   },
   {
    "duration": 80,
    "start_time": "2022-06-26T17:49:45.609Z"
   },
   {
    "duration": 568,
    "start_time": "2022-06-27T08:17:25.314Z"
   },
   {
    "duration": 10033,
    "start_time": "2022-06-27T08:17:25.884Z"
   },
   {
    "duration": 296,
    "start_time": "2022-06-27T08:17:35.919Z"
   },
   {
    "duration": 78,
    "start_time": "2022-06-27T08:17:36.216Z"
   },
   {
    "duration": 77,
    "start_time": "2022-06-27T08:17:36.296Z"
   },
   {
    "duration": 98,
    "start_time": "2022-06-27T08:17:36.375Z"
   },
   {
    "duration": 99,
    "start_time": "2022-06-27T08:17:36.474Z"
   },
   {
    "duration": 72,
    "start_time": "2022-06-27T08:17:36.574Z"
   },
   {
    "duration": 97,
    "start_time": "2022-06-27T08:17:36.648Z"
   },
   {
    "duration": 72,
    "start_time": "2022-06-27T08:17:36.747Z"
   },
   {
    "duration": 87,
    "start_time": "2022-06-27T08:17:36.820Z"
   },
   {
    "duration": 78,
    "start_time": "2022-06-27T08:17:36.908Z"
   }
  ],
  "kernelspec": {
   "display_name": "Python 3 (ipykernel)",
   "language": "python",
   "name": "python3"
  },
  "language_info": {
   "codemirror_mode": {
    "name": "ipython",
    "version": 3
   },
   "file_extension": ".py",
   "mimetype": "text/x-python",
   "name": "python",
   "nbconvert_exporter": "python",
   "pygments_lexer": "ipython3",
   "version": "3.9.5"
  },
  "toc": {
   "base_numbering": 1,
   "nav_menu": {},
   "number_sections": true,
   "sideBar": true,
   "skip_h1_title": true,
   "title_cell": "Table of Contents",
   "title_sidebar": "Contents",
   "toc_cell": false,
   "toc_position": {},
   "toc_section_display": true,
   "toc_window_display": false
  }
 },
 "nbformat": 4,
 "nbformat_minor": 2
}
